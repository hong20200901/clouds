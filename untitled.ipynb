{
  "nbformat": 4,
  "nbformat_minor": 0,
  "metadata": {
    "colab": {
      "provenance": [],
      "authorship_tag": "ABX9TyP3Oz/ckuFubsuiaMdVJixc",
      "include_colab_link": true
    },
    "kernelspec": {
      "name": "python3",
      "display_name": "Python 3"
    },
    "language_info": {
      "name": "python"
    }
  },
  "cells": [
    {
      "cell_type": "markdown",
      "metadata": {
        "id": "view-in-github",
        "colab_type": "text"
      },
      "source": [
        "<a href=\"https://colab.research.google.com/github/hong20200901/clouds/blob/main/untitled.ipynb\" target=\"_parent\"><img src=\"https://colab.research.google.com/assets/colab-badge.svg\" alt=\"Open In Colab\"/></a>"
      ]
    },
    {
      "cell_type": "code",
      "source": [
        "a = \"0123456789\"\n",
        "for i in range(2,9,1):\n",
        " print(a[i],end=' ')"
      ],
      "metadata": {
        "colab": {
          "base_uri": "https://localhost:8080/"
        },
        "id": "Cs5mkyO-W1Bb",
        "outputId": "96bb84eb-1c66-45ff-cbcc-9c1b17901c29"
      },
      "execution_count": null,
      "outputs": [
        {
          "output_type": "stream",
          "name": "stdout",
          "text": [
            "2 3 4 5 6 7 8 "
          ]
        }
      ]
    },
    {
      "cell_type": "code",
      "source": [
        "def print_triangle(m, n):\n",
        "    if m == '1':\n",
        "        for i in range(1, n + 1):\n",
        "            print(' ' * (n - i) + '*' * i)\n",
        "\n",
        "    elif m == '2':\n",
        "        for i in range(1, n + 1):\n",
        "            print(' ' * (i - 1) + '*' * (n - i + 1))\n",
        "\n",
        "    else: m == '3'\n",
        "\n",
        "        for i in range(1, n + 1):\n",
        "            line = ''\n",
        "            for j in range(1, i + 1):\n",
        "                line += str(j) + ' '\n",
        "            print(' ' * (n - i) + line.strip())\n",
        "\n",
        "m = input()\n",
        "n = int(input())\n",
        "\n",
        "print_triangle(m, n)\n"
      ],
      "metadata": {
        "colab": {
          "base_uri": "https://localhost:8080/",
          "height": 106
        },
        "id": "v8Gy8n6BnNPj",
        "outputId": "03545721-1335-4d13-aa9d-ddf751a2c096"
      },
      "execution_count": null,
      "outputs": [
        {
          "output_type": "error",
          "ename": "IndentationError",
          "evalue": "unexpected indent (<ipython-input-1-a90f4fe3987e>, line 12)",
          "traceback": [
            "\u001b[0;36m  File \u001b[0;32m\"<ipython-input-1-a90f4fe3987e>\"\u001b[0;36m, line \u001b[0;32m12\u001b[0m\n\u001b[0;31m    for i in range(1, n + 1):\u001b[0m\n\u001b[0m    ^\u001b[0m\n\u001b[0;31mIndentationError\u001b[0m\u001b[0;31m:\u001b[0m unexpected indent\n"
          ]
        }
      ]
    },
    {
      "cell_type": "code",
      "source": [
        "n = int(input(\"請輸入一個正整數 n：\"))  # 輸入一個正整數 n\n",
        "total = 0  # 初始化總和為 0\n",
        "\n",
        "# 使用迴圈計算從 1 到 n 的總和\n",
        "for i in range(1, n + 1):\n",
        "    total += i  # 將 i 加到總和中\n",
        "\n",
        "# 輸出結果\n",
        "print(f\"從 1 到 {n} 的所有整數的總和為：{total}\")\n"
      ],
      "metadata": {
        "colab": {
          "base_uri": "https://localhost:8080/"
        },
        "id": "s_2uq8Y5lvCr",
        "outputId": "20340cd6-3154-4f51-f81a-7db1295f3d91"
      },
      "execution_count": null,
      "outputs": [
        {
          "output_type": "stream",
          "name": "stdout",
          "text": [
            "請輸入一個正整數 n：100\n",
            "從 1 到 100 的所有整數的總和為：5050\n"
          ]
        }
      ]
    },
    {
      "cell_type": "code",
      "source": [
        "M = int(input())\n",
        "D = int(input())\n",
        "s = (M * 2 + D)%3\n",
        "\n",
        "if s == 0:\n",
        "    print(\"normal\")\n",
        "elif s == 1:\n",
        "    print(\"good\")\n",
        "else:\n",
        "    print(\"very good\")"
      ],
      "metadata": {
        "colab": {
          "base_uri": "https://localhost:8080/"
        },
        "id": "1UWpI1UPfD_0",
        "outputId": "9a1d58f2-7561-4bb7-a6d8-ad5817d978a5"
      },
      "execution_count": null,
      "outputs": [
        {
          "output_type": "stream",
          "name": "stdout",
          "text": [
            "1\n",
            "1\n",
            "normal\n"
          ]
        }
      ]
    },
    {
      "cell_type": "code",
      "source": [
        "# @title\n",
        "a = int(input())\n",
        "b = int(input())\n",
        "c = int(input())\n",
        "if a <= 10:\n",
        "    a = a * 380\n",
        "elif a <= 20:\n",
        "    a = 0.9 * a * 380\n",
        "elif a <= 30:\n",
        "    a = 0.85 * a * 380\n",
        "else:\n",
        "    a = 0.8 * a * 380\n",
        "if b <= 10:\n",
        "    b = b * 1200\n",
        "elif b <= 20:\n",
        "    b = 0.95 * b * 1200\n",
        "elif b <= 30:\n",
        "    b = 0.85 * b * 1200\n",
        "else:\n",
        "    b = 0.8 * b * 1200\n",
        "if c <= 10:\n",
        "    c = c * 180\n",
        "elif c <= 20:\n",
        "    c = 0.85 * c * 180\n",
        "elif c <= 30:\n",
        "    c = 0.8 * c * 180\n",
        "else:\n",
        "    c = 0.7 * c * 180\n",
        "print(a+b+c)"
      ],
      "metadata": {
        "id": "UlxpOnJzgLGy"
      },
      "execution_count": null,
      "outputs": []
    }
  ]
}